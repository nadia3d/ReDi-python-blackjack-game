{
 "cells": [
  {
   "cell_type": "code",
   "execution_count": 10,
   "metadata": {},
   "outputs": [
    {
     "name": "stdout",
     "output_type": "stream",
     "text": [
      "25\n"
     ]
    },
    {
     "ename": "KeyboardInterrupt",
     "evalue": "",
     "output_type": "error",
     "traceback": [
      "\u001b[1;31m---------------------------------------------------------------------------\u001b[0m",
      "\u001b[1;31mKeyboardInterrupt\u001b[0m                         Traceback (most recent call last)",
      "Cell \u001b[1;32mIn [10], line 50\u001b[0m\n\u001b[0;32m     45\u001b[0m   dealerCards\u001b[39m.\u001b[39mappend(value_of_card(card_for_dealer))\n\u001b[0;32m     48\u001b[0m \u001b[39mwhile\u001b[39;00m goOn:\n\u001b[1;32m---> 50\u001b[0m   \u001b[39mif\u001b[39;00m sum_of_cards(playerCards) \u001b[39m<\u001b[39m\u001b[39m=\u001b[39m \u001b[39m16\u001b[39m:\n\u001b[0;32m     51\u001b[0m     \u001b[39m# ask hit or stand\u001b[39;00m\n\u001b[0;32m     52\u001b[0m     playerInput \u001b[39m=\u001b[39m \u001b[39minput\u001b[39m(\u001b[39m\"\u001b[39m\u001b[39mHey player! Hit or stand? (h/s)  \u001b[39m\u001b[39m\"\u001b[39m)\u001b[39m.\u001b[39mlower()\n\u001b[0;32m     53\u001b[0m     \u001b[39mif\u001b[39;00m playerInput \u001b[39m==\u001b[39m \u001b[39m'\u001b[39m\u001b[39mh\u001b[39m\u001b[39m'\u001b[39m: \u001b[39m# hit\u001b[39;00m\n",
      "Cell \u001b[1;32mIn [10], line 28\u001b[0m, in \u001b[0;36msum_of_cards\u001b[1;34m(listOfCards)\u001b[0m\n\u001b[0;32m     23\u001b[0m     \u001b[39m# ask the user if it is 1 or 11\u001b[39;00m\n\u001b[0;32m     24\u001b[0m     \n\u001b[0;32m     25\u001b[0m   \u001b[39melse\u001b[39;00m:\n\u001b[0;32m     26\u001b[0m     \u001b[39mreturn\u001b[39;00m \u001b[39mint\u001b[39m(firstAlphabet)\n\u001b[1;32m---> 28\u001b[0m \u001b[39mdef\u001b[39;00m \u001b[39msum_of_cards\u001b[39m(listOfCards):\n\u001b[0;32m     29\u001b[0m   \u001b[39mreturn\u001b[39;00m \u001b[39msum\u001b[39m(listOfCards)\n\u001b[0;32m     32\u001b[0m \u001b[39m# create the deck\u001b[39;00m\n",
      "\u001b[1;31mKeyboardInterrupt\u001b[0m: "
     ]
    }
   ],
   "source": [
    "from random import shuffle\n",
    "\n",
    "def create_deck():\n",
    "  card_families = ['Hearts', 'Spades', 'Diamonds', 'Clubs']\n",
    "  card_values = ['Ace', '2','3','4','5','6','7','8','9','10','J','Q','K']\n",
    "  deck = []\n",
    "  for family in card_families:\n",
    "    for value in card_values:\n",
    "      deck.append(f'{value} of {family}')\n",
    "  shuffle(deck)\n",
    "  return deck\n",
    "\n",
    "def deal_card(deck):\n",
    "  card = deck.pop()\n",
    "  return card\n",
    "\n",
    "def value_of_card(card):\n",
    "  firstAlphabet = card[0]\n",
    "  if firstAlphabet in ['J', 'Q', 'K', '1']:\n",
    "    return 10\n",
    "  elif firstAlphabet == 'A':\n",
    "    return 11\n",
    "    # ask the user if it is 1 or 11\n",
    "    \n",
    "  else:\n",
    "    return int(firstAlphabet)\n",
    "\n",
    "def sum_of_cards(listOfCards):\n",
    "  return sum(listOfCards)\n",
    "\n",
    "\n",
    "# create the deck\n",
    "deck = create_deck()\n",
    "\n",
    "playerCards = []\n",
    "dealerCards = []\n",
    "\n",
    "goOn = True\n",
    "\n",
    "\n",
    "for card in range(2):\n",
    "  card_for_player = deal_card(deck)\n",
    "  playerCards.append(value_of_card(card_for_player))\n",
    "  card_for_dealer = deal_card(deck)\n",
    "  dealerCards.append(value_of_card(card_for_dealer))\n",
    "\n",
    "\n",
    "while goOn:\n",
    "\n",
    "  if sum_of_cards(playerCards) <= 16 and sum_of_cards(playerCards) < 21:\n",
    "    # ask hit or stand\n",
    "    playerInput = input(\"Hey player! Hit or stand? (h/s)  \").lower()\n",
    "    if playerInput == 'h': # hit\n",
    "      card = deal_card(deck)\n",
    "      playerCards.append(value_of_card(card))\n",
    "      playerScore = sum_of_cards(playerCards)\n",
    "      print(playerScore)\n",
    "    elif playerInput == 's' or playerScore > 21 :\n",
    "      \n",
    "      player_score = sum_of_cards(playerCards)\n",
    "      dealer_score = sum_of_cards(dealerCards)\n",
    "\n",
    "      if player_score > dealer_score:\n",
    "        print(f'Your score is:  {player_score} Congratulations! You won!')\n",
    "      else:\n",
    "        print(f'Your score is:  {player_score} You have lost.')\n",
    "        break\n",
    "\n",
    "\n"
   ]
  }
 ],
 "metadata": {
  "kernelspec": {
   "display_name": "Python 3.10.8 64-bit",
   "language": "python",
   "name": "python3"
  },
  "language_info": {
   "codemirror_mode": {
    "name": "ipython",
    "version": 3
   },
   "file_extension": ".py",
   "mimetype": "text/x-python",
   "name": "python",
   "nbconvert_exporter": "python",
   "pygments_lexer": "ipython3",
   "version": "3.10.8"
  },
  "orig_nbformat": 4,
  "vscode": {
   "interpreter": {
    "hash": "25759ddffe5ba3af3c29cfc76720c4355e55321fe1aceed06d16227b0eb342a9"
   }
  }
 },
 "nbformat": 4,
 "nbformat_minor": 2
}
